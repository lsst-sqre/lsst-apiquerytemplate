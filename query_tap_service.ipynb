{
 "cells": [
  { "cell_type": "markdown",
    "metadata": {},
    "source": [
    "### This notebook was rendered using `query_url` = {{cookiecutter.query_url}}"
    ]
  },
  {
   "cell_type": "code",
   "execution_count": null,
   "metadata": {},
   "outputs": [],
   "source": [
    "import rubin_jupyter_utils.lab\n",
    "query_url = \"{{cookiecutter.query_url}}\"\n",
    "query_data = rubin_jupyter_utils.lab.notebook.retrieve_query(query_url)\n"
   ]
  }
 ],
 "metadata": {
  "kernelspec": {
   "display_name": "LSST",
   "language": "python",
   "name": "lsst"
  },
  "language_info": {
   "name": ""
  }
 },
 "nbformat": 4,
 "nbformat_minor": 4
}
