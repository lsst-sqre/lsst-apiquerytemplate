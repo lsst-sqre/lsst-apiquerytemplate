{
 "cells": [
  {
   "cell_type": "code",
   "execution_count": null,
   "metadata": {},
   "outputs": [],
   "source": [
    "import jupyterlabutils\\n",
    "query_id = {{cookiecutter.query_id}}\\n",
    "query_url = FIXME_get_url_from_query_id(query_id)\\n",
    "query_data = jupyterlabutils.retrieve_query(query_url)\\n"
   ]
  }
 ],
 "metadata": {
  "kernelspec": {
   "display_name": "LSST_Stack (Python 3)",
   "language": "python",
   "name": "lsst_stack"
  },
  "language_info": {
   "name": ""
  }
 },
 "nbformat": 4,
 "nbformat_minor": 2
}
