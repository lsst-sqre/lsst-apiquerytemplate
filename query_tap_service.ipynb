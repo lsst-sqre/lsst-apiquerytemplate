{
 "cells": [
  { "cell_type": "markdown",
    "metadata": {},
    "source": [
    "### This notebook was rendered using `query_url` = {{cookiecutter.query_url}}"
    ]
  },
  {
   "cell_type": "code",
   "execution_count": null,
   "metadata": {},
   "outputs": [],
   "source": [
    "import jupyterlabutils\n",
    "query_url = \"{{cookiecutter.query_url}}\"\n",
    "query_data = jupyterlabutils.retrieve_query(query_url)\n"
   ]
  }
 ],
 "metadata": {
  "kernelspec": {
   "display_name": "LSST",
   "language": "python",
   "name": "lsst"
  },
  "language_info": {
   "name": ""
  }
 },
 "nbformat": 4,
 "nbformat_minor": 4
}
